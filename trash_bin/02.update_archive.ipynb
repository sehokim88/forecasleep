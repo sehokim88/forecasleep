{
 "cells": [
  {
   "cell_type": "code",
   "execution_count": 5,
   "metadata": {},
   "outputs": [],
   "source": [
    "import numpy as np\n",
    "import pandas as pd\n",
    "from datetime import datetime, timedelta\n",
    "from functions import (datespace, timespace, aggregate_hr, input_time_scaler,\n",
    "                       parse_time, parse_date, parse_datetime,\n",
    "                       format_datetime_i, format_datetime_h,\n",
    "                       reformat_datetime_hi, reformat_datetime_ih,\n",
    "                       get_deep, get_light, get_rem, get_wake,\n",
    "                       import_concat, expand_input_time, get_input_bed,\n",
    "                       get_delta, get_p_day, get_diff, get_avg, get_var)\n",
    "\n",
    "from collections import defaultdict\n",
    "from classes import TimeScaler, AvgRatioFiller, MatrixPipeline, OneHotEncoder\n",
    "\n",
    "from sklearn.linear_model import LinearRegression, Ridge\n",
    "from sklearn.ensemble import GradientBoostingRegressor, RandomForestRegressor\n",
    "from sklearn.model_selection import train_test_split, KFold\n",
    "from sklearn.metrics import mean_squared_error, r2_score\n",
    "from sklearn.pipeline import make_pipeline\n",
    "\n",
    "pd.set_option('display.max_columns', 500)"
   ]
  },
  {
   "cell_type": "code",
   "execution_count": 6,
   "metadata": {},
   "outputs": [],
   "source": [
    "# import new sleep data\n",
    "archive_sleep_df = pd.read_csv('data/sleep_archive.csv')\n",
    "new_sleep_df = pd.read_csv('data/fitbit_export_20190407.csv', header=1)\n",
    "sleep_df = pd.concat([archive_sleep_df, new_sleep_df], axis=0, sort=False)\n",
    "sleep_df.to_csv('data/sleep_archive.csv', columns=sleep_df.columns, index=None)"
   ]
  }
 ],
 "metadata": {
  "kernelspec": {
   "display_name": "Python 3",
   "language": "python",
   "name": "python3"
  },
  "language_info": {
   "codemirror_mode": {
    "name": "ipython",
    "version": 3
   },
   "file_extension": ".py",
   "mimetype": "text/x-python",
   "name": "python",
   "nbconvert_exporter": "python",
   "pygments_lexer": "ipython3",
   "version": "3.6.8"
  }
 },
 "nbformat": 4,
 "nbformat_minor": 2
}
