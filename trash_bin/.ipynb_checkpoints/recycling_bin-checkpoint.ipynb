{
 "cells": [
  {
   "cell_type": "code",
   "execution_count": null,
   "metadata": {},
   "outputs": [],
   "source": [
    "# heart_rate \n",
    "\n",
    "parsed_hr_list = []\n",
    "for date in dates:\n",
    "    # later, replace sleep_end and sleep_start with actual corresponding values \n",
    "    sleep_end = datetime.strptime('06:00', '%H:%M').time()\n",
    "    sleep_start = datetime.strptime('22:00', '%H:%M').time()\n",
    "    # import\n",
    "    filename = f'heart_rate-{date}.json'\n",
    "    df = pd.read_json(f'{path}{filename}')\n",
    "    # aggregate\n",
    "    daytime_hr_dict = aggregate_hr(df, sleep_end, sleep_start)\n",
    "    # append\n",
    "    parsed_hr_list.append(daytime_hr_dict)\n",
    "\n"
   ]
  },
  {
   "cell_type": "code",
   "execution_count": null,
   "metadata": {},
   "outputs": [],
   "source": [
    "daytime_hr = pd.DataFrame(parsed_hr_list)\n",
    "daytime_hr"
   ]
  },
  {
   "cell_type": "code",
   "execution_count": null,
   "metadata": {},
   "outputs": [],
   "source": [
    "# resting_heart_rate\n",
    "\n",
    "# import\n",
    "rhrs = pd.DataFrame()\n",
    "for date in ['2017-11-14', '2018-11-14']:\n",
    "    try:\n",
    "        filename = f'resting_heart_rate-{date}.json'\n",
    "        rhr = pd.read_json(f'{path}{filename}')\n",
    "    except:\n",
    "        continue\n",
    "\n",
    "    rhrs = pd.concat([rhrs, rhr])\n",
    "    \n",
    "# expand\n",
    "rhrs['resting_hr'] = rhrs['value'].apply(lambda x: x['value'])\n",
    "rhrs['date'] = rhrs['dateTime'].apply(lambda x: x.date())\n",
    "\n",
    "# trim\n",
    "mask = (rhrs['date'] >= dates[0]) & (rhrs['date'] <= dates[-1])\n",
    "rhrs = rhrs.loc[mask, ['date', 'resting_hr']].copy()\n",
    "\n",
    "rhrs"
   ]
  },
  {
   "cell_type": "code",
   "execution_count": null,
   "metadata": {},
   "outputs": [],
   "source": []
  },
  {
   "cell_type": "code",
   "execution_count": 1,
   "metadata": {},
   "outputs": [
    {
     "ename": "NameError",
     "evalue": "name 'import_concat' is not defined",
     "output_type": "error",
     "traceback": [
      "\u001b[0;31m---------------------------------------------------------------------------\u001b[0m",
      "\u001b[0;31mNameError\u001b[0m                                 Traceback (most recent call last)",
      "\u001b[0;32m<ipython-input-1-75e232272f59>\u001b[0m in \u001b[0;36m<module>\u001b[0;34m\u001b[0m\n\u001b[1;32m      1\u001b[0m \u001b[0;31m# import active_minutes\u001b[0m\u001b[0;34m\u001b[0m\u001b[0;34m\u001b[0m\u001b[0;34m\u001b[0m\u001b[0m\n\u001b[1;32m      2\u001b[0m \u001b[0;34m\u001b[0m\u001b[0m\n\u001b[0;32m----> 3\u001b[0;31m \u001b[0msedentary_minutes\u001b[0m \u001b[0;34m=\u001b[0m \u001b[0mimport_concat\u001b[0m\u001b[0;34m(\u001b[0m\u001b[0;34m'sedentary_minutes'\u001b[0m\u001b[0;34m,\u001b[0m \u001b[0mdates\u001b[0m\u001b[0;34m)\u001b[0m\u001b[0;34m\u001b[0m\u001b[0;34m\u001b[0m\u001b[0m\n\u001b[0m\u001b[1;32m      4\u001b[0m \u001b[0mlightly_active_minutes\u001b[0m \u001b[0;34m=\u001b[0m \u001b[0mimport_concat\u001b[0m\u001b[0;34m(\u001b[0m\u001b[0;34m'lightly_active_minutes'\u001b[0m\u001b[0;34m,\u001b[0m \u001b[0mdates\u001b[0m\u001b[0;34m)\u001b[0m\u001b[0;34m\u001b[0m\u001b[0;34m\u001b[0m\u001b[0m\n\u001b[1;32m      5\u001b[0m \u001b[0mmoderately_active_minutes\u001b[0m \u001b[0;34m=\u001b[0m \u001b[0mimport_concat\u001b[0m\u001b[0;34m(\u001b[0m\u001b[0;34m'moderately_active_minutes'\u001b[0m\u001b[0;34m,\u001b[0m \u001b[0mdates\u001b[0m\u001b[0;34m)\u001b[0m\u001b[0;34m\u001b[0m\u001b[0;34m\u001b[0m\u001b[0m\n",
      "\u001b[0;31mNameError\u001b[0m: name 'import_concat' is not defined"
     ]
    }
   ],
   "source": [
    "# import active_minutes\n",
    "\n",
    "sedentary_minutes = import_concat('sedentary_minutes', dates)\n",
    "lightly_active_minutes = import_concat('lightly_active_minutes', dates)\n",
    "moderately_active_minutes = import_concat('moderately_active_minutes', dates)\n",
    "very_active_minutes = import_concat('very_active_minutes', dates)"
   ]
  },
  {
   "cell_type": "code",
   "execution_count": null,
   "metadata": {},
   "outputs": [],
   "source": [
    "# merge active_minutes\n",
    "\n",
    "active_minutes = sedentary_minutes\\\n",
    ".merge(lightly_active_minutes, on='dateTime')\\\n",
    ".merge(moderately_active_minutes, on='dateTime')\\\n",
    ".merge(very_active_minutes, on='dateTime')\n",
    "\n",
    "active_minutes.columns = ['date','sedentary', 'lightly', 'moderately', 'very']\n",
    "active_minutes['total'] = active_minutes.sum(axis=1)\n",
    "active_minutes['date'] = active_minutes['date'].apply(lambda x: x.date()).copy()\n",
    "active_minutes"
   ]
  },
  {
   "cell_type": "code",
   "execution_count": null,
   "metadata": {},
   "outputs": [],
   "source": [
    "# no-nan\n",
    "pd.set_option('display.max_rows', 500)\n",
    "day = list(map(lambda x: x.weekday(), dates))\n",
    "bracket = {'date': dates, 'day': day}\n",
    "\n",
    "merged = pd.DataFrame(bracket)\\\n",
    ".merge(sleep_df, on='date', how='outer')\\\n",
    "# .merge(active_minutes, on='date', how='outer')\\\n",
    "\n",
    "# .merge(nap_df, on='date', how='outer')\n",
    "# .merge(daytime_hr, on='date', how='outer')\\\n",
    "# .merge(rhrs, on='date', how='outer')\n",
    "\n",
    "# omit nan rows\n",
    "nan_mask = merged.isna().all(axis=1)\n",
    "no_nan_merged = merged[~nan_mask].copy()\n",
    "no_nan_merged.reset_index(inplace=True)\n",
    "no_nan_merged.drop('index', axis=1 ,inplace=True)\n",
    "merged"
   ]
  },
  {
   "cell_type": "code",
   "execution_count": null,
   "metadata": {},
   "outputs": [],
   "source": [
    "def parse_col(x, colname):\n",
    "    try:\n",
    "        return x[0][colname]\n",
    "    except:\n",
    "        return np.nan\n",
    "\n",
    "def parse_stage(x, stage):\n",
    "    try:\n",
    "        return x['stages'][stage]\n",
    "    except:\n",
    "        return np.nan\n",
    "\n",
    "sleep_df = pd.DataFrame()\n",
    "sleep_df['start']=raw_sleep.apply(parse_col, args=('startTime',))\n",
    "sleep_df['end']=raw_sleep.apply(parse_col, args=('endTime',))\n",
    "sleep_df['bed']=raw_sleep.apply(parse_col, args=('timeInBed',))\n",
    "# sleep_df['main']=raw_sleep.apply(parse_col, args=('isMainSleep',))\n",
    "sleep_df['effi']=raw_sleep.apply(parse_col, args=('efficiency',))\n",
    "sleep_df['awaken']=raw_sleep.apply(parse_col, args=('awakeningsCount',))\n",
    "sleep_df['deep'] = raw_sleep.apply(parse_stage, args=('deep',)) \n",
    "sleep_df['light'] = raw_sleep.apply(parse_stage, args=('light',)) \n",
    "sleep_df['rem'] = raw_sleep.apply(parse_stage, args=('rem',)) \n",
    "sleep_df['wake'] = raw_sleep.apply(parse_stage, args=('wake',)) \n",
    "sleep_df"
   ]
  },
  {
   "cell_type": "code",
   "execution_count": null,
   "metadata": {},
   "outputs": [],
   "source": [
    "<button id=\"download_button\">download</button>\n",
    "<button id=\"update_button\">update</button>\n",
    "\n",
    "\n",
    "# @app.route('/get_archive', methods=['GET'])\n",
    "# def get_arhive():\n",
    "#     import get_archive\n",
    "#     return jsonify({'result': 'downloaded'})\n",
    "    \n",
    "\n",
    "# @app.route('/get_update', methods=['GET'])\n",
    "# def get_update():\n",
    "#     import get_update\n",
    "#     return jsonify({'result': 'updated'})\n",
    "\n",
    "\n",
    "#####################################################\n",
    "def get_archive(ev):\n",
    "    req = ajax.ajax()\n",
    "    req.open('GET', 'get_archive', True)\n",
    "    req.send()\n",
    "    req.bind('complete', display_archive)\n",
    "\n",
    "def display_archive(res):\n",
    "    data = json.loads(res.text)\n",
    "    document['output1'].html = data['result']\n",
    "\n",
    "document[\"download_button\"].bind(\"click\", get_archive)\n",
    "\n",
    "\n",
    "#####################################################\n",
    "def get_update(ev):\n",
    "    req = ajax.ajax()\n",
    "    req.open('GET', 'get_update', True)\n",
    "    req.send()  \n",
    "    req.bind('complete', display_update)\n",
    "\n",
    "def display_update(res):\n",
    "    data = json.loads(res.text)\n",
    "    document['output2'].html = data['result']\n",
    "\n",
    "document[\"update_button\"].bind(\"click\", get_update)"
   ]
  }
 ],
 "metadata": {
  "kernelspec": {
   "display_name": "Python 3",
   "language": "python",
   "name": "python3"
  },
  "language_info": {
   "codemirror_mode": {
    "name": "ipython",
    "version": 3
   },
   "file_extension": ".py",
   "mimetype": "text/x-python",
   "name": "python",
   "nbconvert_exporter": "python",
   "pygments_lexer": "ipython3",
   "version": "3.6.8"
  }
 },
 "nbformat": 4,
 "nbformat_minor": 2
}
